{
 "cells": [
  {
   "cell_type": "code",
   "execution_count": 32,
   "id": "95f32611",
   "metadata": {},
   "outputs": [],
   "source": [
    "from itertools import product\n",
    "\n",
    "import numpy as np\n",
    "import pandas as pd\n",
    "import matplotlib.pyplot as plt\n",
    "from sklearn.ensemble import VotingClassifier\n",
    "from sklearn.metrics import classification_report\n",
    "from sklearn.model_selection import train_test_split\n",
    "\n",
    "import joblib\n"
   ]
  },
  {
   "cell_type": "code",
   "execution_count": 45,
   "id": "75b2c48d",
   "metadata": {},
   "outputs": [],
   "source": [
    "# Load the saved model\n",
    "knn = joblib.load('best_knn_model.pkl')\n",
    "nb = joblib.load('best_nb_model.pkl')\n",
    "lr = joblib.load('best_lr_model.pkl')\n",
    "svm = joblib.load('best_svm_model.pkl')\n",
    "rf = joblib.load('best_rf_model.pkl')\n",
    "ada = joblib.load('best_adaboost_dt_model.pkl')"
   ]
  },
  {
   "cell_type": "code",
   "execution_count": 34,
   "id": "c8389f6c",
   "metadata": {},
   "outputs": [
    {
     "name": "stderr",
     "output_type": "stream",
     "text": [
      "C:\\Users\\ajed8\\AppData\\Local\\Temp\\ipykernel_26672\\12585974.py:3: FutureWarning: In a future version of pandas all arguments of DataFrame.drop except for the argument 'labels' will be keyword-only.\n",
      "  X = np.array(df.drop(['Grade'], 1))\n"
     ]
    }
   ],
   "source": [
    "df = pd.read_csv(\"Cleaned.csv\")\n",
    "\n",
    "X = np.array(df.drop(['Grade'], 1))\n",
    "y = np.array(df['Grade'])\n",
    "\n",
    "# Split the data into training and test sets\n",
    "X_train, X_test, y_train, y_test = train_test_split(X, y, random_state=0)\n"
   ]
  },
  {
   "cell_type": "code",
   "execution_count": 46,
   "id": "b8cafccc",
   "metadata": {
    "scrolled": false
   },
   "outputs": [
    {
     "name": "stdout",
     "output_type": "stream",
     "text": [
      "              precision    recall  f1-score   support\n",
      "\n",
      "           0       0.92      0.89      0.90       122\n",
      "           1       0.85      0.90      0.87        88\n",
      "\n",
      "    accuracy                           0.89       210\n",
      "   macro avg       0.89      0.89      0.89       210\n",
      "weighted avg       0.89      0.89      0.89       210\n",
      "\n"
     ]
    }
   ],
   "source": [
    "eclf = VotingClassifier(estimators=[('KNN', knn), ('NB', nb),\n",
    "                                    ('LR', lr), ('SVM', svm), ('RF', rf), ('Ada', ada)],\n",
    "                        voting='hard')\n",
    "\n",
    "eclf.fit(X_train, y_train)\n",
    "\n",
    "# Make predictions on the test set\n",
    "y_pred = eclf.predict(X_test)\n",
    "\n",
    "# Generate the classification report\n",
    "report = classification_report(y_test, y_pred)\n",
    "\n",
    "print(report)"
   ]
  },
  {
   "cell_type": "code",
   "execution_count": 47,
   "id": "a51f505e",
   "metadata": {},
   "outputs": [],
   "source": [
    "from numpy import mean\n",
    "from numpy import std\n",
    "import pandas as pd\n",
    "from sklearn.model_selection import cross_val_score\n",
    "from sklearn.model_selection import RepeatedStratifiedKFold\n",
    "\n",
    "from matplotlib import pyplot\n",
    "\n",
    "def evaluate_model(model, X, y):\n",
    "\tcv = RepeatedStratifiedKFold(n_splits=10, n_repeats=3, random_state=1)\n",
    "\tscores = cross_val_score(model, X, y, scoring='accuracy', cv=cv, error_score='raise')\n",
    "\treturn scores\n",
    "\n",
    "def get_models(X, y):\n",
    "    models = dict()\n",
    "    models['KNN'] = knn\n",
    "    models['NB'] = nb\n",
    "    models['LR'] = lr\n",
    "    models['SVM'] = svm\n",
    "    models['RF'] = rf\n",
    "    models['Ada'] = ada\n",
    "\n",
    "    models['soft_voting'] = get_voting(X, y)\n",
    "    return models\n",
    "\n",
    "\n",
    "def get_voting(X, y):\n",
    "    models = list()\n",
    "    models.append(('KNN', knn))\n",
    "    models.append(('NB', nb))\n",
    "    models.append(('LR', lr))\n",
    "    models.append(('SVM', svm))\n",
    "    models.append(('RF', rf))\n",
    "    models.append(('Ada', ada))\n",
    "\n",
    "    # compute model accuracies using cross-validation\n",
    "    accuracies = {}\n",
    "    for name, model in models:\n",
    "        scores = evaluate_model(model, X, y)\n",
    "        accuracies[name] = mean(scores)\n",
    "\n",
    "    # compute model weights based on accuracies\n",
    "    weights = {}\n",
    "    total_acc = sum(accuracies.values())\n",
    "    for name, acc in accuracies.items():\n",
    "        weights[name] = acc / total_acc\n",
    "\n",
    "    # define the voting ensemble with dynamic weights\n",
    "    ensemble = VotingClassifier(estimators=models, voting='soft', weights=list(weights.values()))\n",
    "    return ensemble"
   ]
  },
  {
   "cell_type": "code",
   "execution_count": 48,
   "id": "7c69db0a",
   "metadata": {},
   "outputs": [
    {
     "name": "stdout",
     "output_type": "stream",
     "text": [
      ">KNN 0.866 (0.037)\n",
      ">NB 0.733 (0.044)\n",
      ">LR 0.875 (0.031)\n",
      ">SVM 0.872 (0.035)\n",
      ">RF 0.873 (0.035)\n",
      ">Ada 0.801 (0.034)\n",
      ">soft_voting 0.874 (0.033)\n"
     ]
    },
    {
     "data": {
      "image/png": "[encoded data removed]",
      "text/plain": [
       "<Figure size 432x288 with 1 Axes>"
      ]
     },
     "metadata": {
      "needs_background": "light"
     },
     "output_type": "display_data"
    },
    {
     "name": "stdout",
     "output_type": "stream",
     "text": [
      ">soft_voting_dynamic_weights 0.873 (0.034)\n"
     ]
    }
   ],
   "source": [
    "# get the models to evaluate\n",
    "models = get_models(X, y)\n",
    "\n",
    "# evaluate the models and store results\n",
    "results, names = list(), list()\n",
    "for name, model in models.items():\n",
    "    scores = evaluate_model(model, X, y)\n",
    "    results.append(scores)\n",
    "    names.append(name)\n",
    "    print('>%s %.3f (%.3f)' % (name, mean(scores), std(scores)))\n",
    "\n",
    "# compare model performance for comparison\n",
    "pyplot.boxplot(results, labels=names, showmeans=True)\n",
    "pyplot.show()\n",
    "\n",
    "# evaluate the soft voting ensemble with dynamic weights\n",
    "ensemble = models['soft_voting']\n",
    "scores = evaluate_model(ensemble, X, y)\n",
    "print('>soft_voting_dynamic_weights %.3f (%.3f)' % (mean(scores), std(scores)))\n"
   ]
  },
  {
   "cell_type": "code",
   "execution_count": 49,
   "id": "bf4cf84e",
   "metadata": {},
   "outputs": [
    {
     "name": "stdout",
     "output_type": "stream",
     "text": [
      "[0.17236937314342293, 0.14590696168786654, 0.174188818645746, 0.17363851016832965, 0.17380131769365523, 0.16009501866097953]\n"
     ]
    }
   ],
   "source": [
    "# fit the soft voting ensemble with dynamic weights\n",
    "ensemble = get_voting(X, y)\n",
    "ensemble.fit(X, y)\n",
    "print(ensemble.weights)"
   ]
  },
  {
   "cell_type": "code",
   "execution_count": 51,
   "id": "a801b084",
   "metadata": {},
   "outputs": [
    {
     "name": "stdout",
     "output_type": "stream",
     "text": [
      "Test Accuracy: 0.8809523809523809\n",
      "Classification Report:\n",
      "              precision    recall  f1-score   support\n",
      "\n",
      "           0      0.922     0.869     0.895       122\n",
      "           1      0.832     0.898     0.863        88\n",
      "\n",
      "    accuracy                          0.881       210\n",
      "   macro avg      0.877     0.883     0.879       210\n",
      "weighted avg      0.884     0.881     0.881       210\n",
      "\n"
     ]
    }
   ],
   "source": [
    "from sklearn.metrics import classification_report\n",
    "\n",
    "ensemble.fit(X_train, y_train)\n",
    "\n",
    "# Evaluate the model on the test set\n",
    "y_pred = ensemble.predict(X_test)\n",
    "\n",
    "print(\"Test Accuracy:\", ensemble.score(X_test, y_test))\n",
    "print(\"Classification Report:\")\n",
    "print(classification_report(y_test, y_pred,digits=3))"
   ]
  },
  {
   "cell_type": "code",
   "execution_count": 27,
   "id": "169dc06e",
   "metadata": {
    "scrolled": true
   },
   "outputs": [
    {
     "name": "stderr",
     "output_type": "stream",
     "text": [
      "C:\\Users\\ajed8\\anaconda3\\lib\\site-packages\\sklearn\\utils\\deprecation.py:87: FutureWarning: Function plot_confusion_matrix is deprecated; Function `plot_confusion_matrix` is deprecated in 1.0 and will be removed in 1.2. Use one of the class methods: ConfusionMatrixDisplay.from_predictions or ConfusionMatrixDisplay.from_estimator.\n",
      "  warnings.warn(msg, category=FutureWarning)\n"
     ]
    },
    {
     "data": {
      "image/png": "[encoded data removed]",
      "text/plain": [
       "<Figure size 432x288 with 2 Axes>"
      ]
     },
     "metadata": {
      "needs_background": "light"
     },
     "output_type": "display_data"
    }
   ],
   "source": [
    "from sklearn.metrics import plot_confusion_matrix\n",
    "\n",
    "plot_confusion_matrix(ensemble, X_test, y_test, cmap=plt.cm.Blues)\n",
    "\n",
    "plt.show()"
   ]
  },
  {
   "cell_type": "code",
   "execution_count": 40,
   "id": "9549be0d",
   "metadata": {},
   "outputs": [],
   "source": [
    "y_scores = ensemble.predict_proba(X)[:, 1]"
   ]
  },
  {
   "cell_type": "code",
   "execution_count": 41,
   "id": "2a58f286",
   "metadata": {},
   "outputs": [
    {
     "data": {
      "image/png": "[encoded data removed]",
      "text/plain": [
       "<Figure size 432x288 with 1 Axes>"
      ]
     },
     "metadata": {
      "needs_background": "light"
     },
     "output_type": "display_data"
    }
   ],
   "source": [
    "from sklearn.metrics import roc_curve, roc_auc_score\n",
    "y_scores = ensemble.predict_proba(X)[:, 1]\n",
    "# Compute ROC curve and AUC\n",
    "fpr, tpr, thresholds = roc_curve(y, y_scores)\n",
    "auc = roc_auc_score(y, y_scores)\n",
    "\n",
    "# Plot ROC curve\n",
    "plt.plot(fpr, tpr, label='ROC curve (AUC = {:.2f})'.format(auc))\n",
    "plt.plot([0, 1], [0, 1], 'k--')  # Diagonal line\n",
    "plt.xlabel('False Positive Rate')\n",
    "plt.ylabel('True Positive Rate')\n",
    "plt.title('Receiver Operating Characteristic (ROC) Curve')\n",
    "plt.legend(loc='lower right')\n",
    "plt.show()"
   ]
  },
  {
   "cell_type": "code",
   "execution_count": 30,
   "id": "00434cbc",
   "metadata": {},
   "outputs": [
    {
     "name": "stdout",
     "output_type": "stream",
     "text": [
      "0.9748585390946503\n"
     ]
    }
   ],
   "source": [
    "print(auc)"
   ]
  },
  {
   "cell_type": "code",
   "execution_count": 50,
   "id": "9b7b77cb",
   "metadata": {
    "scrolled": false
   },
   "outputs": [
    {
     "name": "stdout",
     "output_type": "stream",
     "text": [
      "Hyperparameters for KNN:\n",
      "algorithm: auto\n",
      "leaf_size: 30\n",
      "metric: minkowski\n",
      "metric_params: None\n",
      "n_jobs: None\n",
      "n_neighbors: 13\n",
      "p: 2\n",
      "weights: uniform\n",
      "\n",
      "Hyperparameters for NB:\n",
      "priors: None\n",
      "var_smoothing: 1e-07\n",
      "\n",
      "Hyperparameters for LR:\n",
      "C: 10\n",
      "class_weight: None\n",
      "dual: False\n",
      "fit_intercept: True\n",
      "intercept_scaling: 1\n",
      "l1_ratio: None\n",
      "max_iter: 100\n",
      "multi_class: auto\n",
      "n_jobs: None\n",
      "penalty: l2\n",
      "random_state: None\n",
      "solver: lbfgs\n",
      "tol: 0.0001\n",
      "verbose: 0\n",
      "warm_start: False\n",
      "\n",
      "Hyperparameters for SVM:\n",
      "C: 1\n",
      "break_ties: False\n",
      "cache_size: 200\n",
      "class_weight: None\n",
      "coef0: 0.0\n",
      "decision_function_shape: ovr\n",
      "degree: 3\n",
      "gamma: 0.1\n",
      "kernel: linear\n",
      "max_iter: -1\n",
      "probability: True\n",
      "random_state: None\n",
      "shrinking: True\n",
      "tol: 0.001\n",
      "verbose: False\n",
      "\n",
      "Hyperparameters for RF:\n",
      "bootstrap: True\n",
      "ccp_alpha: 0.0\n",
      "class_weight: None\n",
      "criterion: gini\n",
      "max_depth: None\n",
      "max_features: auto\n",
      "max_leaf_nodes: None\n",
      "max_samples: None\n",
      "min_impurity_decrease: 0.0\n",
      "min_samples_leaf: 2\n",
      "min_samples_split: 5\n",
      "min_weight_fraction_leaf: 0.0\n",
      "n_estimators: 150\n",
      "n_jobs: None\n",
      "oob_score: False\n",
      "random_state: 0\n",
      "verbose: 0\n",
      "warm_start: False\n",
      "\n",
      "Hyperparameters for Ada:\n",
      "algorithm: SAMME.R\n",
      "base_estimator__ccp_alpha: 0.0\n",
      "base_estimator__class_weight: None\n",
      "base_estimator__criterion: gini\n",
      "base_estimator__max_depth: 5\n",
      "base_estimator__max_features: None\n",
      "base_estimator__max_leaf_nodes: None\n",
      "base_estimator__min_impurity_decrease: 0.0\n",
      "base_estimator__min_samples_leaf: 4\n",
      "base_estimator__min_samples_split: 2\n",
      "base_estimator__min_weight_fraction_leaf: 0.0\n",
      "base_estimator__random_state: None\n",
      "base_estimator__splitter: best\n",
      "learning_rate: 1.0\n",
      "n_estimators: 200\n",
      "random_state: None\n",
      "\n",
      "Hyperparameters for soft_voting:\n",
      "flatten_transform: True\n",
      "n_jobs: None\n",
      "verbose: False\n",
      "voting: soft\n",
      "KNN__algorithm: auto\n",
      "KNN__leaf_size: 30\n",
      "KNN__metric: minkowski\n",
      "KNN__metric_params: None\n",
      "KNN__n_jobs: None\n",
      "KNN__n_neighbors: 13\n",
      "KNN__p: 2\n",
      "KNN__weights: uniform\n",
      "NB__priors: None\n",
      "NB__var_smoothing: 1e-07\n",
      "LR__C: 10\n",
      "LR__class_weight: None\n",
      "LR__dual: False\n",
      "LR__fit_intercept: True\n",
      "LR__intercept_scaling: 1\n",
      "LR__l1_ratio: None\n",
      "LR__max_iter: 100\n",
      "LR__multi_class: auto\n",
      "LR__n_jobs: None\n",
      "LR__penalty: l2\n",
      "LR__random_state: None\n",
      "LR__solver: lbfgs\n",
      "LR__tol: 0.0001\n",
      "LR__verbose: 0\n",
      "LR__warm_start: False\n",
      "SVM__C: 1\n",
      "SVM__break_ties: False\n",
      "SVM__cache_size: 200\n",
      "SVM__class_weight: None\n",
      "SVM__coef0: 0.0\n",
      "SVM__decision_function_shape: ovr\n",
      "SVM__degree: 3\n",
      "SVM__gamma: 0.1\n",
      "SVM__kernel: linear\n",
      "SVM__max_iter: -1\n",
      "SVM__probability: True\n",
      "SVM__random_state: None\n",
      "SVM__shrinking: True\n",
      "SVM__tol: 0.001\n",
      "SVM__verbose: False\n",
      "RF__bootstrap: True\n",
      "RF__ccp_alpha: 0.0\n",
      "RF__class_weight: None\n",
      "RF__criterion: gini\n",
      "RF__max_depth: None\n",
      "RF__max_features: auto\n",
      "RF__max_leaf_nodes: None\n",
      "RF__max_samples: None\n",
      "RF__min_impurity_decrease: 0.0\n",
      "RF__min_samples_leaf: 2\n",
      "RF__min_samples_split: 5\n",
      "RF__min_weight_fraction_leaf: 0.0\n",
      "RF__n_estimators: 150\n",
      "RF__n_jobs: None\n",
      "RF__oob_score: False\n",
      "RF__random_state: 0\n",
      "RF__verbose: 0\n",
      "RF__warm_start: False\n",
      "Ada__algorithm: SAMME.R\n",
      "Ada__base_estimator__ccp_alpha: 0.0\n",
      "Ada__base_estimator__class_weight: None\n",
      "Ada__base_estimator__criterion: gini\n",
      "Ada__base_estimator__max_depth: 5\n",
      "Ada__base_estimator__max_features: None\n",
      "Ada__base_estimator__max_leaf_nodes: None\n",
      "Ada__base_estimator__min_impurity_decrease: 0.0\n",
      "Ada__base_estimator__min_samples_leaf: 4\n",
      "Ada__base_estimator__min_samples_split: 2\n",
      "Ada__base_estimator__min_weight_fraction_leaf: 0.0\n",
      "Ada__base_estimator__random_state: None\n",
      "Ada__base_estimator__splitter: best\n",
      "Ada__learning_rate: 1.0\n",
      "Ada__n_estimators: 200\n",
      "Ada__random_state: None\n",
      "\n"
     ]
    }
   ],
   "source": [
    "def get_model_hyperparameters(model):\n",
    "    hyperparameters = {}\n",
    "\n",
    "    # Retrieve all parameters of the model\n",
    "    model_params = model.get_params()\n",
    "\n",
    "    # Filter out non-hyperparameters\n",
    "    for param, value in model_params.items():\n",
    "        if isinstance(value, (int, float, str, bool)) or value is None:\n",
    "            hyperparameters[param] = value\n",
    "\n",
    "    return hyperparameters\n",
    "\n",
    "# Get the hyperparameters for each model\n",
    "model_hyperparameters = {}\n",
    "for name, model in models.items():\n",
    "    model_hyperparameters[name] = get_model_hyperparameters(model)\n",
    "\n",
    "# Print the hyperparameters for each model\n",
    "for name, hyperparameters in model_hyperparameters.items():\n",
    "    print(f\"Hyperparameters for {name}:\")\n",
    "    if hyperparameters:\n",
    "        for param, value in hyperparameters.items():\n",
    "            print(f\"{param}: {value}\")\n",
    "    else:\n",
    "        print(\"No hyperparameters found.\")\n",
    "    print()\n"
   ]
  }
 ],
 "metadata": {
  "kernelspec": {
   "display_name": "Python 3 (ipykernel)",
   "language": "python",
   "name": "python3"
  },
  "language_info": {
   "codemirror_mode": {
    "name": "ipython",
    "version": 3
   },
   "file_extension": ".py",
   "mimetype": "text/x-python",
   "name": "python",
   "nbconvert_exporter": "python",
   "pygments_lexer": "ipython3",
   "version": "3.9.12"
  }
 },
 "nbformat": 4,
 "nbformat_minor": 5
}
